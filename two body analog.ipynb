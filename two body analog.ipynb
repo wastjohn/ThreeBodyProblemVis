{
 "cells": [
  {
   "cell_type": "code",
   "execution_count": 5,
   "metadata": {},
   "outputs": [],
   "source": [
    "import matplotlib\n",
    "import numpy\n",
    "x1 = 1 #these variables are 1,2,3,4 to prevent divisions by zero\n",
    "y1 = 2\n",
    "x2 = 3\n",
    "y2 = 4\n",
    "px1 = (x1-x2)/(((x2-x1)**2+(y2-y1)**2)**(3/2))\n",
    "vx1 = px1\n",
    "py1 = (y1-y2)/(((x2-x1)**2+(y2-y1)**2)**(3/2))\n",
    "vy1 = py1\n",
    "px2 = (x2-x1)/(((x1-x2)**2+(y1-y2)**2)**(3/2))\n",
    "vx2 = px2\n",
    "py2 = (y2-y1)/(((x1-x2)**2+(y1-y2)**2)**(3/2))\n",
    "vy2 = py2\n",
    "\n",
    "def HeunSystem6\n",
    "    \n",
    "\n"
   ]
  }
 ],
 "metadata": {
  "kernelspec": {
   "display_name": "Python 3",
   "language": "python",
   "name": "python3"
  },
  "language_info": {
   "codemirror_mode": {
    "name": "ipython",
    "version": 3
   },
   "file_extension": ".py",
   "mimetype": "text/x-python",
   "name": "python",
   "nbconvert_exporter": "python",
   "pygments_lexer": "ipython3",
   "version": "3.11.7"
  }
 },
 "nbformat": 4,
 "nbformat_minor": 2
}
