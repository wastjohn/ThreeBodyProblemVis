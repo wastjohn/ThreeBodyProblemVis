{
 "cells": [
  {
   "cell_type": "code",
   "execution_count": 1,
   "metadata": {},
   "outputs": [],
   "source": [
    "import math\n",
    "import numpy as np\n",
    "import matplotlib.pyplot as plt\n",
    "import pandas as pd\n",
    "import matplotlib.animation as animation"
   ]
  },
  {
   "cell_type": "code",
   "execution_count": 2,
   "metadata": {},
   "outputs": [],
   "source": [
    "def heun(p0: np.array, N: int, t: float) -> np.array:\n",
    "    \"\"\"Calculatue heuns method for the three body problem for N steps with step size t.\n",
    "\n",
    "    Args:\n",
    "        p0 (np.array): 12 dimensional vector of initial conditions corresponding to the following:\n",
    "            p0[0] = x1, p0[1] = x2, p0[2] = x3, p0[3] = y1, p0[4] = y2, p0[5] = y3, \n",
    "            p0[6] = vx1, p0[7] = vx2, p0[8] = vx3, p0[9] = vy1, p0[10] = vy2, p0[11] = vy3\n",
    "        N (int): number of steps\n",
    "        t (float): step size\n",
    "\n",
    "    Returns:\n",
    "        np.array: np.array positions and velocities for each x and y of each planet\n",
    "    \"\"\"\n",
    "    data = [p0[0], p0[1], p0[2], p0[3], p0[4], p0[5], \n",
    "            p0[6], p0[7], p0[8], p0[9], p0[10], p0[11], \n",
    "            derivative(p0)[6], derivative(p0)[7], derivative(p0)[8], \n",
    "            derivative(p0)[9], derivative(p0)[10], derivative(p0)[11]]\n",
    "    df = pd.DataFrame(data=[data], columns=['P1: X Position', 'P2: X Position', \n",
    "                                'P3: X Position', 'P1: Y Position', 'P2: Y Position', \n",
    "                                'P3: Y Position', 'P1: X Velocity', 'P2: X Velocity', \n",
    "                                'P3: X Velocity', 'P1: Y Velocity', 'P2: Y Velocity', \n",
    "                                'P3: Y Velocity', 'P1: X Acceleration', 'P2: X Acceleration', \n",
    "                                'P3: X Acceleration', 'P1: Y Acceleration', 'P2: Y Acceleration', \n",
    "                                'P3: Y Acceleration'])\n",
    "    \n",
    "    # TODO: verify times and step sizes are correct\n",
    "    G = 6.67430 * (10**(-11))\n",
    "    for i in range(0, N):\n",
    "        ptemp = p0 + t * derivative(p0)\n",
    "        dp0 = derivative(p0)\n",
    "        dptemp = derivative(ptemp)\n",
    "        p0 = p0 + t/2 * (dp0 + dptemp)\n",
    "        data = [p0[0], p0[1], p0[2], p0[3], p0[4], p0[5], p0[6], p0[7], p0[8], p0[9], p0[10], p0[11], \n",
    "            derivative(p0)[6], derivative(p0)[7], derivative(p0)[8], derivative(p0)[9], derivative(p0)[10], \n",
    "            derivative(p0)[11]]\n",
    "        df2 = pd.DataFrame(data=[data], columns=['P1: X Position', 'P2: X Position', \n",
    "                                'P3: X Position', 'P1: Y Position', 'P2: Y Position', \n",
    "                                'P3: Y Position', 'P1: X Velocity', 'P2: X Velocity', \n",
    "                                'P3: X Velocity', 'P1: Y Velocity', 'P2: Y Velocity', \n",
    "                                'P3: Y Velocity', 'P1: X Acceleration', 'P2: X Acceleration', \n",
    "                                'P3: X Acceleration', 'P1: Y Acceleration', 'P2: Y Acceleration', \n",
    "                                'P3: Y Acceleration'])\n",
    "        df2['P1: X Position'] = p0[0]\n",
    "        df2['P2: X Position'] = p0[1]\n",
    "        df2['P3: X Position'] = p0[2]\n",
    "        df2['P1: Y Position'] = p0[3]\n",
    "        df2['P2: Y Position'] = p0[4]\n",
    "        df2['P3: Y Position'] = p0[5]\n",
    "        df2['P1: X Velocity'] = p0[6]\n",
    "        df2['P2: X Velocity'] = p0[7]\n",
    "        df2['P3: X Velocity'] = p0[8]\n",
    "        df2['P1: Y Velocity'] = p0[9]\n",
    "        df2['P2: Y Velocity'] = p0[10]\n",
    "        df2['P3: Y Velocity'] = p0[11]\n",
    "        df = pd.concat([df, df2], ignore_index=True)\n",
    "    \n",
    "    df.insert(0, 'Time', [i * t for i in range(0, N + 1)])\n",
    "    return df\n",
    "\n",
    "\n",
    "def derivative(p0: np.array):\n",
    "    G = 6.67430 * (10 ** (-11))\n",
    "    p1 = 0 * p0\n",
    "    p1[0] = p0[6]\n",
    "    p1[1] = p0[7]\n",
    "    p1[2] = p0[8]\n",
    "    p1[3] = p0[9]\n",
    "    p1[4] = p0[10]\n",
    "    p1[5] = p0[11]\n",
    "    p1[6] = - G * ((p0[0] - p0[1])/((p0[0]-p0[1])**2+(p0[3]-p0[4])**2)**(3/2)) - G * ((p0[0] - p0[2])/((p0[0]-p0[2])**2+(p0[3]-p0[5])**2)**(3/2))\n",
    "    p1[7] = - G * ((p0[1] - p0[0])/((p0[1]-p0[0])**2+(p0[4]-p0[3])**2)**(3/2)) - G * ((p0[1] - p0[2])/((p0[1]-p0[2])**2+(p0[4]-p0[5])**2)**(3/2))\n",
    "    p1[8] = - G * ((p0[2] - p0[0])/((p0[2]-p0[0])**2+(p0[5]-p0[3])**2)**(3/2)) - G * ((p0[2] - p0[1])/((p0[2]-p0[1])**2+(p0[5]-p0[4])**2)**(3/2))\n",
    "    p1[9] = - G * ((p0[3] - p0[4])/((p0[0]-p0[1])**2+(p0[3]-p0[4])**2)**(3/2)) - G * ((p0[3] - p0[5])/((p0[0]-p0[2])**2+(p0[3]-p0[5])**2)**(3/2))\n",
    "    p1[10] = - G * ((p0[4] - p0[3])/((p0[1]-p0[0])**2+(p0[4]-p0[3])**2)**(3/2)) - G * ((p0[4] - p0[5])/((p0[1]-p0[2])**2+(p0[4]-p0[5])**2)**(3/2))\n",
    "    p1[11] = - G * ((p0[5] - p0[3])/((p0[2]-p0[0])**2+(p0[5]-p0[3])**2)**(3/2)) - G * ((p0[5] - p0[4])/((p0[2]-p0[1])**2+(p0[5]-p0[4])**2)**(3/2))\n",
    "    return p1\n"
   ]
  },
  {
   "cell_type": "code",
   "execution_count": null,
   "metadata": {},
   "outputs": [],
   "source": [
    "p = np.array([-1, 1, 0, 0, 0, 0, 0.347113, 0.347113, -0.694226, 0.532727, 0.532727, -1.065454])\n",
    "d = heun(p, 3000, 0.001)\n",
    "\n",
    "fig, ax = plt.subplots(figsize=(12, 12))\n",
    "\n",
    "ax.set_title(\"y vs x\")\n",
    "ax.plot(d['P1: X Position'], d['P1: Y Position'], c='blue', marker='x', label='Earth')\n",
    "ax.plot(d['P2: X Position'], d['P2: Y Position'], c='red', marker='x',label='Mars')\n",
    "ax.plot(d['P3: X Position'], d['P3: Y Position'], c='orange', marker='x', label='Venus')\n",
    "ax.plot(d['P1: X Position'], d['P1: Y Position'], c='blue', alpha=0.3, label='Earth')\n",
    "ax.plot(d['P2: X Position'], d['P2: Y Position'], c='red', alpha=0.3, label='Mars')\n",
    "ax.plot(d['P3: X Position'], d['P3: Y Position'], c='orange', alpha=0.3, label='Venus')\n",
    "ax.legend()\n",
    "plt.show()"
   ]
  },
  {
   "cell_type": "code",
   "execution_count": null,
   "metadata": {},
   "outputs": [],
   "source": [
    "p = np.array([-1, 1, 0, 0, 0, 0, 0.306893, 0.306893, -0.613786, 0.125507, 0.125507, -0.251014])\n",
    "d = heun(p, 1000, 0.001)\n",
    "fig, ax = plt.subplots(figsize=(12, 12))\n",
    "\n",
    "ax.set_title(\"y vs x\")\n",
    "ax.plot(d['P1: X Position'], d['P1: Y Position'], c='blue', marker='x', label='Earth')\n",
    "ax.plot(d['P2: X Position'], d['P2: Y Position'], c='red', marker='x',label='Mars')\n",
    "ax.plot(d['P3: X Position'], d['P3: Y Position'], c='orange', marker='x', label='Venus')\n",
    "ax.plot(d['P1: X Position'], d['P1: Y Position'], c='blue', alpha=0.3, label='Earth')\n",
    "ax.plot(d['P2: X Position'], d['P2: Y Position'], c='red', alpha=0.3, label='Mars')\n",
    "ax.plot(d['P3: X Position'], d['P3: Y Position'], c='orange', alpha=0.3, label='Venus')\n",
    "ax.legend()\n",
    "plt.show()"
   ]
  },
  {
   "cell_type": "code",
   "execution_count": null,
   "metadata": {},
   "outputs": [],
   "source": [
    "p = np.array([-0.9892620043, 2.2096177241, 1.2203557197, 0, 0, 0, 0, 0, 0, 1.9169244185, 0.1910268738, 2.1079512924])\n",
    "d = heun(p, 50000, 0.001)\n",
    "fig, ax = plt.subplots(figsize=(12, 12))\n",
    "\n",
    "ax.set_title(\"y vs x\")\n",
    "ax.plot(d['P1: X Position'], d['P1: Y Position'], c='blue', marker='x', label='Earth')\n",
    "ax.plot(d['P2: X Position'], d['P2: Y Position'], c='red', marker='x',label='Mars')\n",
    "ax.plot(d['P3: X Position'], d['P3: Y Position'], c='orange', marker='x', label='Venus')\n",
    "ax.plot(d['P1: X Position'], d['P1: Y Position'], c='blue', alpha=0.3, label='Earth')\n",
    "ax.plot(d['P2: X Position'], d['P2: Y Position'], c='red', alpha=0.3, label='Mars')\n",
    "ax.plot(d['P3: X Position'], d['P3: Y Position'], c='orange', alpha=0.3, label='Venus')\n",
    "ax.legend()\n",
    "plt.show()"
   ]
  },
  {
   "cell_type": "code",
   "execution_count": null,
   "metadata": {},
   "outputs": [],
   "source": [
    "p = np.array([-1, 1, 0, 0, 0, 0, 0.080584, 0.080584, -0.161168, 0.532727, 0.532727, -1.065454])\n",
    "d = heun(p, 10000, 0.001)\n",
    "fig, ax = plt.subplots(figsize=(12, 12))\n",
    "\n",
    "ax.set_title(\"y vs x\")\n",
    "ax.plot(d['P1: X Position'], d['P1: Y Position'], c='blue', marker='x', label='Earth')\n",
    "ax.plot(d['P2: X Position'], d['P2: Y Position'], c='red', marker='x',label='Mars')\n",
    "ax.plot(d['P3: X Position'], d['P3: Y Position'], c='orange', marker='x', label='Venus')\n",
    "ax.plot(d['P1: X Position'], d['P1: Y Position'], c='blue', alpha=0.3, label='Earth')\n",
    "ax.plot(d['P2: X Position'], d['P2: Y Position'], c='red', alpha=0.3, label='Mars')\n",
    "ax.plot(d['P3: X Position'], d['P3: Y Position'], c='orange', alpha=0.3, label='Venus')\n",
    "ax.legend()\n",
    "plt.show()"
   ]
  },
  {
   "cell_type": "code",
   "execution_count": 3,
   "metadata": {},
   "outputs": [
    {
     "data": {
      "image/png": "[encoded data removed]",
      "text/plain": [
       "<Figure size 1200x1200 with 1 Axes>"
      ]
     },
     "metadata": {},
     "output_type": "display_data"
    }
   ],
   "source": [
    "p = np.array([-1, 1, 0, 0, 0, 0, 0.464445, 0.464445, -0.92889, 0.39606, 0.39606, -0.79212])\n",
    "d = heun(p, 20000, 0.001)\n",
    "fig, ax = plt.subplots(figsize=(12, 12))\n",
    "\n",
    "ax.set_title(\"y vs x\")\n",
    "ax.plot(d['P1: X Position'], d['P1: Y Position'], c='blue', marker='x', label='Earth')\n",
    "ax.plot(d['P2: X Position'], d['P2: Y Position'], c='red', marker='x',label='Mars')\n",
    "ax.plot(d['P3: X Position'], d['P3: Y Position'], c='orange', marker='x', label='Venus')\n",
    "ax.plot(d['P1: X Position'], d['P1: Y Position'], c='blue', alpha=0.3, label='Earth')\n",
    "ax.plot(d['P2: X Position'], d['P2: Y Position'], c='red', alpha=0.3, label='Mars')\n",
    "ax.plot(d['P3: X Position'], d['P3: Y Position'], c='orange', alpha=0.3, label='Venus')\n",
    "ax.legend()\n",
    "plt.show()"
   ]
  }
 ],
 "metadata": {
  "kernelspec": {
   "display_name": "Python 3",
   "language": "python",
   "name": "python3"
  },
  "language_info": {
   "codemirror_mode": {
    "name": "ipython",
    "version": 3
   },
   "file_extension": ".py",
   "mimetype": "text/x-python",
   "name": "python",
   "nbconvert_exporter": "python",
   "pygments_lexer": "ipython3",
   "version": "3.11.1"
  }
 },
 "nbformat": 4,
 "nbformat_minor": 2
}
