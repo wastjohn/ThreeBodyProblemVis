{
 "cells": [
  {
   "cell_type": "code",
   "execution_count": 1,
   "metadata": {},
   "outputs": [],
   "source": [
    "import turtle\n",
    "import math\n",
    "import numpy as np\n",
    "import matplotlib.pyplot as plt\n",
    "import pandas as pd\n",
    "import matplotlib.animation as animation"
   ]
  },
  {
   "cell_type": "code",
   "execution_count": 2,
   "metadata": {},
   "outputs": [],
   "source": [
    "win = turtle.Screen()\n",
    "\n",
    "body1 = turtle.Turtle()\n",
    "body1.hideturtle()\n",
    "body1.color(\"red\")\n",
    "\n",
    "body2 = turtle.Turtle()\n",
    "body2.hideturtle()\n",
    "body2.color(\"blue\")\n",
    "\n",
    "body3 = turtle.Turtle()\n",
    "body3.hideturtle()\n",
    "body3.color(\"green\")"
   ]
  },
  {
   "cell_type": "code",
   "execution_count": 3,
   "metadata": {},
   "outputs": [
    {
     "data": {
      "text/plain": [
       "\"\\nFunctions/how to do this:\\n\\n    1) Calculating points\\n        - Heun's Method\\n        - Produces dataframe\\n\\n    2) Calculating path\\n        - Takes in points from Heun's method\\n        - Scale points to make sure they fit the screen\\n            -> Each body has to have the same scale\\n        - Find distance between points\\n            -> x distances\\n            -> y distances\\n            -> angle from (x1, y1) to (x2, y2)\\n        - Add each to an array/dataframe\\n\\n    3) Moving together\\n        - Define speed (idk why but you have to do this or else it won't work)\\n        - Pen down\\n        - for loop (go through the points)\\n            -> body.forward(speed)\\n            -> yield(0)\\n    \\n    4) Actually move\\n        - Define motions\\n        - while loop\\n        \\n\\n\""
      ]
     },
     "execution_count": 3,
     "metadata": {},
     "output_type": "execute_result"
    }
   ],
   "source": [
    "\"\"\"\n",
    "Functions/how to do this:\n",
    "\n",
    "    1) Calculating points\n",
    "        - Heun's Method\n",
    "        - Produces dataframe\n",
    "\n",
    "    2) Calculating path\n",
    "        - Takes in points from Heun's method\n",
    "        - Scale points to make sure they fit the screen\n",
    "            -> Each body has to have the same scale\n",
    "        - Find distance between points\n",
    "            -> x distances\n",
    "            -> y distances\n",
    "            -> angle from (x1, y1) to (x2, y2)\n",
    "        - Add each to an array/dataframe\n",
    "\n",
    "    3) Moving together\n",
    "        - Define speed (idk why but you have to do this or else it won't work)\n",
    "        - Pen down\n",
    "        - for loop (go through the points)\n",
    "            -> body.forward(speed)\n",
    "            -> yield(0)\n",
    "    \n",
    "    4) Actually move\n",
    "        - Define motions\n",
    "        - while loop\n",
    "        \n",
    "\n",
    "\"\"\""
   ]
  },
  {
   "cell_type": "code",
   "execution_count": 4,
   "metadata": {},
   "outputs": [],
   "source": [
    "def heun(p0: np.array, N: int, t: float) -> np.array:\n",
    "   \n",
    "    data = [p0[0], p0[1], p0[2], p0[3], p0[4], p0[5], \n",
    "            p0[6], p0[7], p0[8], p0[9], p0[10], p0[11], \n",
    "            derivative(p0)[6], derivative(p0)[7], derivative(p0)[8], \n",
    "            derivative(p0)[9], derivative(p0)[10], derivative(p0)[11]]\n",
    "    df = pd.DataFrame(data=[data], columns=['P1: X Position', 'P2: X Position', \n",
    "                                'P3: X Position', 'P1: Y Position', 'P2: Y Position', \n",
    "                                'P3: Y Position', 'P1: X Velocity', 'P2: X Velocity', \n",
    "                                'P3: X Velocity', 'P1: Y Velocity', 'P2: Y Velocity', \n",
    "                                'P3: Y Velocity', 'P1: X Acceleration', 'P2: X Acceleration', \n",
    "                                'P3: X Acceleration', 'P1: Y Acceleration', 'P2: Y Acceleration', \n",
    "                                'P3: Y Acceleration'])\n",
    "    # TODO: verify times and step sizes are correct\n",
    "    for i in range(0, N):\n",
    "        ptemp = p0 + t * derivative(p0)\n",
    "        dp0 = derivative(p0)\n",
    "        dptemp = derivative(ptemp)\n",
    "        p0 = p0 + t/2 * (dp0 + dptemp)\n",
    "        data = [p0[0], p0[1], p0[2], p0[3], p0[4], p0[5], p0[6], p0[7], p0[8], p0[9], p0[10], p0[11], \n",
    "            derivative(p0)[6], derivative(p0)[7], derivative(p0)[8], derivative(p0)[9], derivative(p0)[10], \n",
    "            derivative(p0)[11]]\n",
    "        df2 = pd.DataFrame(data=[data], columns=['P1: X Position', 'P2: X Position', \n",
    "                                'P3: X Position', 'P1: Y Position', 'P2: Y Position', \n",
    "                                'P3: Y Position', 'P1: X Velocity', 'P2: X Velocity', \n",
    "                                'P3: X Velocity', 'P1: Y Velocity', 'P2: Y Velocity', \n",
    "                                'P3: Y Velocity', 'P1: X Acceleration', 'P2: X Acceleration', \n",
    "                                'P3: X Acceleration', 'P1: Y Acceleration', 'P2: Y Acceleration', \n",
    "                                'P3: Y Acceleration'])\n",
    "        df2['P1: X Position'] = p0[0]\n",
    "        df2['P2: X Position'] = p0[1]\n",
    "        df2['P3: X Position'] = p0[2]\n",
    "        df2['P1: Y Position'] = p0[3]\n",
    "        df2['P2: Y Position'] = p0[4]\n",
    "        df2['P3: Y Position'] = p0[5]\n",
    "        df2['P1: X Velocity'] = p0[6]\n",
    "        df2['P2: X Velocity'] = p0[7]\n",
    "        df2['P3: X Velocity'] = p0[8]\n",
    "        df2['P1: Y Velocity'] = p0[9]\n",
    "        df2['P2: Y Velocity'] = p0[10]\n",
    "        df2['P3: Y Velocity'] = p0[11]\n",
    "        df = pd.concat([df, df2], ignore_index=True)\n",
    "    \n",
    "    df.insert(0, 'Time', [i * t for i in range(0, N + 1)])\n",
    "    return df\n",
    "\n",
    "\n",
    "def derivative(p0: np.array):\n",
    "    p1 = 0 * p0\n",
    "    p1[0] = p0[6]\n",
    "    p1[1] = p0[7]\n",
    "    p1[2] = p0[8]\n",
    "    p1[3] = p0[9]\n",
    "    p1[4] = p0[10]\n",
    "    p1[5] = p0[11]\n",
    "    p1[6] = - ((p0[0] - p0[1])/((p0[0]-p0[1])**2+(p0[3]-p0[4])**2)**(3/2)) - ((p0[0] - p0[2])/((p0[0]-p0[2])**2+(p0[3]-p0[5])**2)**(3/2))\n",
    "    p1[7] = - ((p0[1] - p0[0])/((p0[1]-p0[0])**2+(p0[4]-p0[3])**2)**(3/2)) - ((p0[1] - p0[2])/((p0[1]-p0[2])**2+(p0[4]-p0[5])**2)**(3/2))\n",
    "    p1[8] = - ((p0[2] - p0[0])/((p0[2]-p0[0])**2+(p0[5]-p0[3])**2)**(3/2)) - ((p0[2] - p0[1])/((p0[2]-p0[1])**2+(p0[5]-p0[4])**2)**(3/2))\n",
    "    p1[9] = - ((p0[3] - p0[4])/((p0[0]-p0[1])**2+(p0[3]-p0[4])**2)**(3/2)) - ((p0[3] - p0[5])/((p0[0]-p0[2])**2+(p0[3]-p0[5])**2)**(3/2))\n",
    "    p1[10] = - ((p0[4] - p0[3])/((p0[1]-p0[0])**2+(p0[4]-p0[3])**2)**(3/2)) - ((p0[4] - p0[5])/((p0[1]-p0[2])**2+(p0[4]-p0[5])**2)**(3/2))\n",
    "    p1[11] = - ((p0[5] - p0[3])/((p0[2]-p0[0])**2+(p0[5]-p0[3])**2)**(3/2)) - ((p0[5] - p0[4])/((p0[2]-p0[1])**2+(p0[5]-p0[4])**2)**(3/2))\n",
    "    return p1"
   ]
  },
  {
   "cell_type": "code",
   "execution_count": 5,
   "metadata": {},
   "outputs": [
    {
     "name": "stdout",
     "output_type": "stream",
     "text": [
      "       Time  P1: X Position  P2: X Position  P3: X Position  P1: Y Position  \\\n",
      "0     0.000       -1.000000        1.000000        0.000000        0.000000   \n",
      "1     0.001       -0.999652        1.000346       -0.000694        0.000533   \n",
      "2     0.002       -0.999303        1.000692       -0.001388        0.001065   \n",
      "3     0.003       -0.998953        1.001036       -0.002083        0.001598   \n",
      "4     0.004       -0.998602        1.001378       -0.002777        0.002131   \n",
      "...     ...             ...             ...             ...             ...   \n",
      "2996  2.996        0.960382       -0.772696       -0.187686        0.413886   \n",
      "2997  2.997        0.959992       -0.773448       -0.186544        0.414264   \n",
      "2998  2.998        0.959601       -0.774198       -0.185403        0.414641   \n",
      "2999  2.999        0.959209       -0.774948       -0.184262        0.415019   \n",
      "3000  3.000        0.958817       -0.775696       -0.183121        0.415396   \n",
      "\n",
      "      P2: Y Position  P3: Y Position  P1: X Velocity  P2: X Velocity  \\\n",
      "0           0.000000        0.000000        0.347113        0.347113   \n",
      "1           0.000533       -0.001065        0.348364        0.345864   \n",
      "2           0.001065       -0.002131        0.349617        0.344617   \n",
      "3           0.001598       -0.003196        0.350872        0.343372   \n",
      "4           0.002131       -0.004262        0.352130        0.342130   \n",
      "...              ...             ...             ...             ...   \n",
      "2996       -0.512337        0.098451       -0.389444       -0.752299   \n",
      "2997       -0.512170        0.097906       -0.390354       -0.751103   \n",
      "2998       -0.512002        0.097361       -0.391264       -0.749907   \n",
      "2999       -0.511833        0.096814       -0.392175       -0.748711   \n",
      "3000       -0.511663        0.096267       -0.393088       -0.747515   \n",
      "\n",
      "      P3: X Velocity  P1: Y Velocity  P2: Y Velocity  P3: Y Velocity  \\\n",
      "0          -0.694226        0.532727        0.532727       -1.065454   \n",
      "1          -0.694228        0.532726        0.532726       -1.065452   \n",
      "2          -0.694234        0.532724        0.532724       -1.065448   \n",
      "3          -0.694245        0.532720        0.532720       -1.065440   \n",
      "4          -0.694259        0.532714        0.532714       -1.065428   \n",
      "...              ...             ...             ...             ...   \n",
      "2996        1.141743        0.377996        0.166346       -0.544342   \n",
      "2997        1.141457        0.377686        0.167476       -0.545162   \n",
      "2998        1.141171        0.377376        0.168601       -0.545977   \n",
      "2999        1.140887        0.377064        0.169723       -0.546787   \n",
      "3000        1.140603        0.376751        0.170840       -0.547591   \n",
      "\n",
      "      P1: X Acceleration  P2: X Acceleration  P3: X Acceleration  \\\n",
      "0               1.250000           -1.250000            0.000000   \n",
      "1               1.252084           -1.247918           -0.004165   \n",
      "2               1.254169           -1.245839           -0.008331   \n",
      "3               1.256257           -1.243761           -0.012496   \n",
      "4               1.258346           -1.241685           -0.016661   \n",
      "...                  ...                 ...                 ...   \n",
      "2996           -0.908629            1.195411           -0.286782   \n",
      "2997           -0.909736            1.195702           -0.285967   \n",
      "2998           -0.910845            1.195979           -0.285135   \n",
      "2999           -0.911955            1.196241           -0.284286   \n",
      "3000           -0.913067            1.196489           -0.283422   \n",
      "\n",
      "      P1: Y Acceleration  P2: Y Acceleration  P3: Y Acceleration  \n",
      "0              -0.000000           -0.000000           -0.000000  \n",
      "1              -0.001603           -0.001593            0.003196  \n",
      "2              -0.003216           -0.003176            0.006393  \n",
      "3              -0.004840           -0.004750            0.009589  \n",
      "4              -0.006473           -0.006313            0.012786  \n",
      "...                  ...                 ...                 ...  \n",
      "2996           -0.308960            1.131687           -0.822727  \n",
      "2997           -0.310040            1.127613           -0.817573  \n",
      "2998           -0.311125            1.123547           -0.812422  \n",
      "2999           -0.312216            1.119489           -0.807273  \n",
      "3000           -0.313314            1.115441           -0.802127  \n",
      "\n",
      "[3001 rows x 19 columns]\n"
     ]
    }
   ],
   "source": [
    "p = np.array([-1, 1, 0, 0, 0, 0, 0.347113, 0.347113, -0.694226, 0.532727, 0.532727, -1.065454])\n",
    "d = heun(p, 3000, 0.001)\n",
    "print(d)\n"
   ]
  },
  {
   "cell_type": "code",
   "execution_count": 66,
   "metadata": {},
   "outputs": [],
   "source": [
    "def path2(p, N, t, x_var, y_var):\n",
    "    H = heun(p, N, t)\n",
    "    x = H[x_var]\n",
    "    y = H[y_var]\n",
    "\n",
    "    df1 = pd.DataFrame(columns=['x', 'y', 'x_path', 'y_path', 'hyp'])\n",
    "    df2 = pd.DataFrame(columns=['ang_temp', 'angle'])\n",
    "    \n",
    "    x_path = np.zeros((N,))\n",
    "    y_path = np.zeros((N,))\n",
    "    hyp = np.zeros((N,))\n",
    "    ang_temp = np.zeros((N,))\n",
    "    angle = np.zeros((N,))\n",
    "\n",
    "    for i in range(0, N):\n",
    "        x_path[i] = x[i+1] - x[i]\n",
    "        x_path[i] = x_path[i] * 10000\n",
    "\n",
    "        y_path[i] = y[i+1] - y[i]\n",
    "        y_path[i] = y_path[i] * 10000\n",
    "\n",
    "        hyp[i] = math.sqrt((x_path[i])**2 + (y_path[i])**2)\n",
    "\n",
    "        data = [x[i], y[i], x_path[i], y_path[i], hyp[i]]\n",
    "        df3 = pd.DataFrame([data], columns = ['x', 'y', 'x_path', 'y_path', 'hyp'])\n",
    "        df1 = pd.concat([df3,df1], ignore_index=True)\n",
    "\n",
    "        # if x_path[i] > 0 and y_path[i] > 0:\n",
    "        #     hyp[i] = math.sqrt((x_path[i])**2 + (y_path[i])**2)\n",
    "        # else:\n",
    "        #     hyp[i] = - math.sqrt((x_path[i])**2 + (y_path[i])**2)\n",
    "\n",
    "\n",
    "    if y_path[0] > 0:\n",
    "            ang_temp[0] = math.degrees(math.acos(((x_path[0])**2 + (hyp[0])**2 - (y_path[0])**2)/(2 * (x_path[0]) * (hyp[0]))))\n",
    "    else:\n",
    "            ang_temp[0] = - math.degrees(math.acos(((x_path[0])**2 + (hyp[0])**2 - (y_path[0])**2)/(2 * (x_path[0]) * (hyp[0]))))\n",
    "    angle[0] = ang_temp[0]\n",
    "\n",
    "    for i in range(1, N):\n",
    "        m = (x_path[i])**2 + (hyp[i])**2 - (y_path[i])**2\n",
    "\n",
    "        if y[i-1] > 0:\n",
    "            ang_temp[i] = math.degrees(math.acos(m/(2 * (x_path[i]) * (hyp[i]))))\n",
    "        else:\n",
    "            ang_temp[i] = - math.degrees(math.acos(m/(2 * (x_path[i]) * (hyp[i]))))\n",
    "\n",
    "        angle[i] = ang_temp[i] - ang_temp[i-1]\n",
    "        data2 = [ang_temp[i], angle[i]]\n",
    "        df4 = pd.DataFrame([data2], columns=['ang_temp', 'angle'])\n",
    "        df2 = pd.append([df2,df4], ignore_index=True)\n",
    "        \n",
    "    \n",
    "    return (hyp, angle, x, y, x_path, y_path), df1, df2"
   ]
  },
  {
   "cell_type": "code",
   "execution_count": 67,
   "metadata": {},
   "outputs": [
    {
     "name": "stderr",
     "output_type": "stream",
     "text": [
      "/var/folders/4k/r2y24bnd4rv9vm6zpj6n8md40000gn/T/ipykernel_30680/3885247329.py:26: FutureWarning: The behavior of DataFrame concatenation with empty or all-NA entries is deprecated. In a future version, this will no longer exclude empty or all-NA columns when determining the result dtypes. To retain the old behavior, exclude the relevant entries before the concat operation.\n",
      "  df1 = pd.concat([df3,df1], ignore_index=True)\n"
     ]
    },
    {
     "ename": "AttributeError",
     "evalue": "module 'pandas' has no attribute 'append'",
     "output_type": "error",
     "traceback": [
      "\u001b[0;31m---------------------------------------------------------------------------\u001b[0m",
      "\u001b[0;31mAttributeError\u001b[0m                            Traceback (most recent call last)",
      "Cell \u001b[0;32mIn[67], line 2\u001b[0m\n\u001b[1;32m      1\u001b[0m p \u001b[38;5;241m=\u001b[39m np\u001b[38;5;241m.\u001b[39marray([\u001b[38;5;241m-\u001b[39m\u001b[38;5;241m1\u001b[39m, \u001b[38;5;241m1\u001b[39m, \u001b[38;5;241m0\u001b[39m, \u001b[38;5;241m0\u001b[39m, \u001b[38;5;241m0\u001b[39m, \u001b[38;5;241m0\u001b[39m, \u001b[38;5;241m0.347113\u001b[39m, \u001b[38;5;241m0.347113\u001b[39m, \u001b[38;5;241m-\u001b[39m\u001b[38;5;241m0.694226\u001b[39m, \u001b[38;5;241m0.532727\u001b[39m, \u001b[38;5;241m0.532727\u001b[39m, \u001b[38;5;241m-\u001b[39m\u001b[38;5;241m1.065454\u001b[39m])\n\u001b[0;32m----> 2\u001b[0m d, df1, df2 \u001b[38;5;241m=\u001b[39m \u001b[43mpath2\u001b[49m\u001b[43m(\u001b[49m\u001b[43mp\u001b[49m\u001b[43m,\u001b[49m\u001b[43m \u001b[49m\u001b[38;5;241;43m3000\u001b[39;49m\u001b[43m,\u001b[49m\u001b[43m \u001b[49m\u001b[38;5;241;43m0.001\u001b[39;49m\u001b[43m,\u001b[49m\u001b[38;5;124;43m'\u001b[39;49m\u001b[38;5;124;43mP3: X Position\u001b[39;49m\u001b[38;5;124;43m'\u001b[39;49m\u001b[43m,\u001b[49m\u001b[43m \u001b[49m\u001b[38;5;124;43m'\u001b[39;49m\u001b[38;5;124;43mP3: Y Position\u001b[39;49m\u001b[38;5;124;43m'\u001b[39;49m\u001b[43m)\u001b[49m\n\u001b[1;32m      3\u001b[0m df1\n\u001b[1;32m      4\u001b[0m df2\n",
      "Cell \u001b[0;32mIn[66], line 51\u001b[0m, in \u001b[0;36mpath2\u001b[0;34m(p, N, t, x_var, y_var)\u001b[0m\n\u001b[1;32m     49\u001b[0m     data2 \u001b[38;5;241m=\u001b[39m [ang_temp[i], angle[i]]\n\u001b[1;32m     50\u001b[0m     df4 \u001b[38;5;241m=\u001b[39m pd\u001b[38;5;241m.\u001b[39mDataFrame([data2], columns\u001b[38;5;241m=\u001b[39m[\u001b[38;5;124m'\u001b[39m\u001b[38;5;124mang_temp\u001b[39m\u001b[38;5;124m'\u001b[39m, \u001b[38;5;124m'\u001b[39m\u001b[38;5;124mangle\u001b[39m\u001b[38;5;124m'\u001b[39m])\n\u001b[0;32m---> 51\u001b[0m     df2 \u001b[38;5;241m=\u001b[39m \u001b[43mpd\u001b[49m\u001b[38;5;241;43m.\u001b[39;49m\u001b[43mappend\u001b[49m([df2,df4], ignore_index\u001b[38;5;241m=\u001b[39m\u001b[38;5;28;01mTrue\u001b[39;00m)\n\u001b[1;32m     54\u001b[0m \u001b[38;5;28;01mreturn\u001b[39;00m (hyp, angle, x, y, x_path, y_path), df1, df2\n",
      "\u001b[0;31mAttributeError\u001b[0m: module 'pandas' has no attribute 'append'"
     ]
    }
   ],
   "source": [
    "p = np.array([-1, 1, 0, 0, 0, 0, 0.347113, 0.347113, -0.694226, 0.532727, 0.532727, -1.065454])\n",
    "d, df1, df2 = path2(p, 3000, 0.001,'P3: X Position', 'P3: Y Position')\n",
    "df1\n",
    "df2\n"
   ]
  },
  {
   "cell_type": "code",
   "execution_count": 91,
   "metadata": {},
   "outputs": [],
   "source": [
    "def path3(p, N, t, x_var, y_var):\n",
    "    H = heun(p, N, t)\n",
    "    x = H[x_var]\n",
    "    y = H[y_var]\n",
    "\n",
    "    df1 = pd.DataFrame(columns=['x', 'y', 'x_path', 'y_path', 'hyp'])\n",
    "    df2 = pd.DataFrame(columns=['ang_temp', 'angle'])\n",
    "    \n",
    "    x_path = np.zeros((N,))\n",
    "    y_path = np.zeros((N,))\n",
    "    hyp = np.zeros((N,))\n",
    "    ang_temp = np.zeros((N,))\n",
    "    angle = np.zeros((N,))\n",
    "\n",
    "    for i in range(0, N):\n",
    "\n",
    "        x_path[i] = x[i+1] - x[i]\n",
    "        x_path[i] = x_path[i] * 1\n",
    "\n",
    "        y_path[i] = y[i+1] - y[i]\n",
    "        y_path[i] = y_path[i] * 1\n",
    "\n",
    "        hyp[i] = math.sqrt((x_path[i])**2 + (y_path[i])**2)\n",
    "\n",
    "        data = [x[i], y[i], x_path[i], y_path[i], hyp[i]]\n",
    "        df3 = pd.DataFrame([data], columns=['x', 'y', 'x_path', 'y_path', 'hyp'])\n",
    "        df1 = pd.concat([df1,df3], ignore_index=True)\n",
    "\n",
    "\n",
    "    if y_path[0] > 0:\n",
    "            ang_temp = math.degrees(math.acos(((x_path[0])**2 + (hyp[0])**2 - (y_path[0])**2)/(2 * (x_path[0]) * (hyp[0]))))\n",
    "    else:\n",
    "            ang_temp = - math.degrees(math.acos(((x_path[0])**2 + (hyp[0])**2 - (y_path[0])**2)/(2 * (x_path[0]) * (hyp[0]))))\n",
    "    angle = ang_temp\n",
    "\n",
    "    for i in range(1, N):\n",
    "        m = (x_path[i])**2 + (hyp[i])**2 - (y_path[i])**2\n",
    "\n",
    "        if y[i-1] > 0:\n",
    "            ang_temp = math.degrees(math.acos(m/(2 * (x_path[i]) * (hyp[i]))))\n",
    "        else:\n",
    "            ang_temp = - math.degrees(math.acos(m/(2 * (x_path[i]) * (hyp[i]))))\n",
    "\n",
    "        angle = ang_temp[i] - ang_temp[i-1]\n",
    "        data2 = [ang_temp, angle]\n",
    "        df4 = pd.DataFrame([data2], columns=['ang_temp', 'angle'])\n",
    "        df2 = pd.concat([df2,df4], ignore_index=True)\n",
    "        \n",
    "    \n",
    "    return (hyp, angle, x, y, x_path, y_path), df1, df2"
   ]
  },
  {
   "cell_type": "code",
   "execution_count": 92,
   "metadata": {},
   "outputs": [
    {
     "name": "stderr",
     "output_type": "stream",
     "text": [
      "/var/folders/4k/r2y24bnd4rv9vm6zpj6n8md40000gn/T/ipykernel_30680/3885247329.py:26: FutureWarning: The behavior of DataFrame concatenation with empty or all-NA entries is deprecated. In a future version, this will no longer exclude empty or all-NA columns when determining the result dtypes. To retain the old behavior, exclude the relevant entries before the concat operation.\n",
      "  df1 = pd.concat([df3,df1], ignore_index=True)\n"
     ]
    },
    {
     "ename": "AttributeError",
     "evalue": "module 'pandas' has no attribute 'append'",
     "output_type": "error",
     "traceback": [
      "\u001b[0;31m---------------------------------------------------------------------------\u001b[0m",
      "\u001b[0;31mAttributeError\u001b[0m                            Traceback (most recent call last)",
      "Cell \u001b[0;32mIn[92], line 2\u001b[0m\n\u001b[1;32m      1\u001b[0m p \u001b[38;5;241m=\u001b[39m np\u001b[38;5;241m.\u001b[39marray([\u001b[38;5;241m-\u001b[39m\u001b[38;5;241m1\u001b[39m, \u001b[38;5;241m1\u001b[39m, \u001b[38;5;241m0\u001b[39m, \u001b[38;5;241m0\u001b[39m, \u001b[38;5;241m0\u001b[39m, \u001b[38;5;241m0\u001b[39m, \u001b[38;5;241m0.347113\u001b[39m, \u001b[38;5;241m0.347113\u001b[39m, \u001b[38;5;241m-\u001b[39m\u001b[38;5;241m0.694226\u001b[39m, \u001b[38;5;241m0.532727\u001b[39m, \u001b[38;5;241m0.532727\u001b[39m, \u001b[38;5;241m-\u001b[39m\u001b[38;5;241m1.065454\u001b[39m])\n\u001b[0;32m----> 2\u001b[0m d, df1, df2 \u001b[38;5;241m=\u001b[39m \u001b[43mpath2\u001b[49m\u001b[43m(\u001b[49m\u001b[43mp\u001b[49m\u001b[43m,\u001b[49m\u001b[43m \u001b[49m\u001b[38;5;241;43m3000\u001b[39;49m\u001b[43m,\u001b[49m\u001b[43m \u001b[49m\u001b[38;5;241;43m0.001\u001b[39;49m\u001b[43m,\u001b[49m\u001b[38;5;124;43m'\u001b[39;49m\u001b[38;5;124;43mP3: X Position\u001b[39;49m\u001b[38;5;124;43m'\u001b[39;49m\u001b[43m,\u001b[49m\u001b[43m \u001b[49m\u001b[38;5;124;43m'\u001b[39;49m\u001b[38;5;124;43mP3: Y Position\u001b[39;49m\u001b[38;5;124;43m'\u001b[39;49m\u001b[43m)\u001b[49m\n\u001b[1;32m      3\u001b[0m \u001b[38;5;28mprint\u001b[39m(d)\n",
      "Cell \u001b[0;32mIn[66], line 51\u001b[0m, in \u001b[0;36mpath2\u001b[0;34m(p, N, t, x_var, y_var)\u001b[0m\n\u001b[1;32m     49\u001b[0m     data2 \u001b[38;5;241m=\u001b[39m [ang_temp[i], angle[i]]\n\u001b[1;32m     50\u001b[0m     df4 \u001b[38;5;241m=\u001b[39m pd\u001b[38;5;241m.\u001b[39mDataFrame([data2], columns\u001b[38;5;241m=\u001b[39m[\u001b[38;5;124m'\u001b[39m\u001b[38;5;124mang_temp\u001b[39m\u001b[38;5;124m'\u001b[39m, \u001b[38;5;124m'\u001b[39m\u001b[38;5;124mangle\u001b[39m\u001b[38;5;124m'\u001b[39m])\n\u001b[0;32m---> 51\u001b[0m     df2 \u001b[38;5;241m=\u001b[39m \u001b[43mpd\u001b[49m\u001b[38;5;241;43m.\u001b[39;49m\u001b[43mappend\u001b[49m([df2,df4], ignore_index\u001b[38;5;241m=\u001b[39m\u001b[38;5;28;01mTrue\u001b[39;00m)\n\u001b[1;32m     54\u001b[0m \u001b[38;5;28;01mreturn\u001b[39;00m (hyp, angle, x, y, x_path, y_path), df1, df2\n",
      "\u001b[0;31mAttributeError\u001b[0m: module 'pandas' has no attribute 'append'"
     ]
    }
   ],
   "source": [
    "p = np.array([-1, 1, 0, 0, 0, 0, 0.347113, 0.347113, -0.694226, 0.532727, 0.532727, -1.065454])\n",
    "d, df1, df2 = path2(p, 3000, 0.001,'P3: X Position', 'P3: Y Position')\n",
    "print(d)\n"
   ]
  },
  {
   "cell_type": "code",
   "execution_count": 11,
   "metadata": {},
   "outputs": [],
   "source": [
    "def moveTogether(body, p, N, t, x_var, y_var):\n",
    "    speed = body.speed()\n",
    "    body.pendown()\n",
    "\n",
    "    hyp, angle, x, y = path(p, N, t, x_var, y_var)\n",
    "\n",
    "    body.penup()\n",
    "    body.setposition(x[0], y[0])\n",
    "    print(body.pos())\n",
    "    body.pendown()\n",
    "\n",
    "    for (i,j) in zip(hyp, angle):\n",
    "        body.forward(i)\n",
    "        body.right(j)\n",
    "        yield(0)\n",
    "    \n",
    "    body.penup()"
   ]
  },
  {
   "cell_type": "code",
   "execution_count": 9,
   "metadata": {},
   "outputs": [],
   "source": [
    "def draw(p, N, t):\n",
    "    \n",
    "    motion1 = moveTogether(body1, p, N, t, 'P1: X Position', 'P1: Y Position')\n",
    "    motion2 = moveTogether(body2, p, N, t, 'P2: X Position', 'P2: Y Position')\n",
    "    motion3 = moveTogether(body3, p, N, t, 'P3: X Position', 'P3: Y Position')\n",
    "\n",
    "    while (next(motion1, 1) + next(motion2, 1) + next(motion3, 1) < 3):\n",
    "        pass"
   ]
  },
  {
   "cell_type": "code",
   "execution_count": 12,
   "metadata": {},
   "outputs": [
    {
     "ename": "TclError",
     "evalue": "invalid command name \".!canvas\"",
     "output_type": "error",
     "traceback": [
      "\u001b[0;31m---------------------------------------------------------------------------\u001b[0m",
      "\u001b[0;31mTclError\u001b[0m                                  Traceback (most recent call last)",
      "Cell \u001b[0;32mIn[12], line 2\u001b[0m\n\u001b[1;32m      1\u001b[0m p \u001b[38;5;241m=\u001b[39m np\u001b[38;5;241m.\u001b[39marray([\u001b[38;5;241m-\u001b[39m\u001b[38;5;241m1\u001b[39m, \u001b[38;5;241m1\u001b[39m, \u001b[38;5;241m0\u001b[39m, \u001b[38;5;241m0\u001b[39m, \u001b[38;5;241m0\u001b[39m, \u001b[38;5;241m0\u001b[39m, \u001b[38;5;241m0.347113\u001b[39m, \u001b[38;5;241m0.347113\u001b[39m, \u001b[38;5;241m-\u001b[39m\u001b[38;5;241m0.694226\u001b[39m, \u001b[38;5;241m0.532727\u001b[39m, \u001b[38;5;241m0.532727\u001b[39m, \u001b[38;5;241m-\u001b[39m\u001b[38;5;241m1.065454\u001b[39m])\n\u001b[0;32m----> 2\u001b[0m \u001b[43mdraw\u001b[49m\u001b[43m(\u001b[49m\u001b[43mp\u001b[49m\u001b[43m,\u001b[49m\u001b[43m \u001b[49m\u001b[38;5;241;43m3000\u001b[39;49m\u001b[43m,\u001b[49m\u001b[43m \u001b[49m\u001b[38;5;241;43m0.001\u001b[39;49m\u001b[43m)\u001b[49m\n",
      "Cell \u001b[0;32mIn[9], line 7\u001b[0m, in \u001b[0;36mdraw\u001b[0;34m(p, N, t)\u001b[0m\n\u001b[1;32m      4\u001b[0m motion2 \u001b[38;5;241m=\u001b[39m moveTogether(body2, p, N, t, \u001b[38;5;124m'\u001b[39m\u001b[38;5;124mP2: X Position\u001b[39m\u001b[38;5;124m'\u001b[39m, \u001b[38;5;124m'\u001b[39m\u001b[38;5;124mP2: Y Position\u001b[39m\u001b[38;5;124m'\u001b[39m)\n\u001b[1;32m      5\u001b[0m motion3 \u001b[38;5;241m=\u001b[39m moveTogether(body3, p, N, t, \u001b[38;5;124m'\u001b[39m\u001b[38;5;124mP3: X Position\u001b[39m\u001b[38;5;124m'\u001b[39m, \u001b[38;5;124m'\u001b[39m\u001b[38;5;124mP3: Y Position\u001b[39m\u001b[38;5;124m'\u001b[39m)\n\u001b[0;32m----> 7\u001b[0m \u001b[38;5;28;01mwhile\u001b[39;00m (\u001b[38;5;28;43mnext\u001b[39;49m\u001b[43m(\u001b[49m\u001b[43mmotion1\u001b[49m\u001b[43m,\u001b[49m\u001b[43m \u001b[49m\u001b[38;5;241;43m1\u001b[39;49m\u001b[43m)\u001b[49m \u001b[38;5;241m+\u001b[39m \u001b[38;5;28mnext\u001b[39m(motion2, \u001b[38;5;241m1\u001b[39m) \u001b[38;5;241m+\u001b[39m \u001b[38;5;28mnext\u001b[39m(motion3, \u001b[38;5;241m1\u001b[39m) \u001b[38;5;241m<\u001b[39m \u001b[38;5;241m3\u001b[39m):\n\u001b[1;32m      8\u001b[0m     \u001b[38;5;28;01mpass\u001b[39;00m\n",
      "Cell \u001b[0;32mIn[11], line 7\u001b[0m, in \u001b[0;36mmoveTogether\u001b[0;34m(body, p, N, t, x_var, y_var)\u001b[0m\n\u001b[1;32m      3\u001b[0m body\u001b[38;5;241m.\u001b[39mpendown()\n\u001b[1;32m      5\u001b[0m hyp, angle, x, y \u001b[38;5;241m=\u001b[39m path(p, N, t, x_var, y_var)\n\u001b[0;32m----> 7\u001b[0m \u001b[43mbody\u001b[49m\u001b[38;5;241;43m.\u001b[39;49m\u001b[43mpenup\u001b[49m\u001b[43m(\u001b[49m\u001b[43m)\u001b[49m\n\u001b[1;32m      8\u001b[0m body\u001b[38;5;241m.\u001b[39msetposition(x[\u001b[38;5;241m0\u001b[39m], y[\u001b[38;5;241m0\u001b[39m])\n\u001b[1;32m      9\u001b[0m \u001b[38;5;28mprint\u001b[39m(body\u001b[38;5;241m.\u001b[39mpos())\n",
      "File \u001b[0;32m/Library/Frameworks/Python.framework/Versions/3.11/lib/python3.11/turtle.py:2108\u001b[0m, in \u001b[0;36mTPen.penup\u001b[0;34m(self)\u001b[0m\n\u001b[1;32m   2106\u001b[0m \u001b[38;5;28;01mif\u001b[39;00m \u001b[38;5;129;01mnot\u001b[39;00m \u001b[38;5;28mself\u001b[39m\u001b[38;5;241m.\u001b[39m_drawing:\n\u001b[1;32m   2107\u001b[0m     \u001b[38;5;28;01mreturn\u001b[39;00m\n\u001b[0;32m-> 2108\u001b[0m \u001b[38;5;28;43mself\u001b[39;49m\u001b[38;5;241;43m.\u001b[39;49m\u001b[43mpen\u001b[49m\u001b[43m(\u001b[49m\u001b[43mpendown\u001b[49m\u001b[38;5;241;43m=\u001b[39;49m\u001b[38;5;28;43;01mFalse\u001b[39;49;00m\u001b[43m)\u001b[49m\n",
      "File \u001b[0;32m/Library/Frameworks/Python.framework/Versions/3.11/lib/python3.11/turtle.py:2426\u001b[0m, in \u001b[0;36mTPen.pen\u001b[0;34m(self, pen, **pendict)\u001b[0m\n\u001b[1;32m   2424\u001b[0m         newLine \u001b[38;5;241m=\u001b[39m \u001b[38;5;28;01mTrue\u001b[39;00m\n\u001b[1;32m   2425\u001b[0m \u001b[38;5;28;01mif\u001b[39;00m newLine:\n\u001b[0;32m-> 2426\u001b[0m     \u001b[38;5;28;43mself\u001b[39;49m\u001b[38;5;241;43m.\u001b[39;49m\u001b[43m_newLine\u001b[49m\u001b[43m(\u001b[49m\u001b[43m)\u001b[49m\n\u001b[1;32m   2427\u001b[0m \u001b[38;5;28;01mif\u001b[39;00m \u001b[38;5;124m\"\u001b[39m\u001b[38;5;124mpendown\u001b[39m\u001b[38;5;124m\"\u001b[39m \u001b[38;5;129;01min\u001b[39;00m p:\n\u001b[1;32m   2428\u001b[0m     \u001b[38;5;28mself\u001b[39m\u001b[38;5;241m.\u001b[39m_drawing \u001b[38;5;241m=\u001b[39m p[\u001b[38;5;124m\"\u001b[39m\u001b[38;5;124mpendown\u001b[39m\u001b[38;5;124m\"\u001b[39m]\n",
      "File \u001b[0;32m/Library/Frameworks/Python.framework/Versions/3.11/lib/python3.11/turtle.py:3303\u001b[0m, in \u001b[0;36mRawTurtle._newLine\u001b[0;34m(self, usePos)\u001b[0m\n\u001b[1;32m   3298\u001b[0m \u001b[38;5;250m\u001b[39m\u001b[38;5;124;03m\"\"\"Closes current line item and starts a new one.\u001b[39;00m\n\u001b[1;32m   3299\u001b[0m \u001b[38;5;124;03m   Remark: if current line became too long, animation\u001b[39;00m\n\u001b[1;32m   3300\u001b[0m \u001b[38;5;124;03m   performance (via _drawline) slowed down considerably.\u001b[39;00m\n\u001b[1;32m   3301\u001b[0m \u001b[38;5;124;03m\"\"\"\u001b[39;00m\n\u001b[1;32m   3302\u001b[0m \u001b[38;5;28;01mif\u001b[39;00m \u001b[38;5;28mlen\u001b[39m(\u001b[38;5;28mself\u001b[39m\u001b[38;5;241m.\u001b[39mcurrentLine) \u001b[38;5;241m>\u001b[39m \u001b[38;5;241m1\u001b[39m:\n\u001b[0;32m-> 3303\u001b[0m     \u001b[38;5;28;43mself\u001b[39;49m\u001b[38;5;241;43m.\u001b[39;49m\u001b[43mscreen\u001b[49m\u001b[38;5;241;43m.\u001b[39;49m\u001b[43m_drawline\u001b[49m\u001b[43m(\u001b[49m\u001b[38;5;28;43mself\u001b[39;49m\u001b[38;5;241;43m.\u001b[39;49m\u001b[43mcurrentLineItem\u001b[49m\u001b[43m,\u001b[49m\u001b[43m \u001b[49m\u001b[38;5;28;43mself\u001b[39;49m\u001b[38;5;241;43m.\u001b[39;49m\u001b[43mcurrentLine\u001b[49m\u001b[43m,\u001b[49m\n\u001b[1;32m   3304\u001b[0m \u001b[43m                              \u001b[49m\u001b[38;5;28;43mself\u001b[39;49m\u001b[38;5;241;43m.\u001b[39;49m\u001b[43m_pencolor\u001b[49m\u001b[43m,\u001b[49m\u001b[43m \u001b[49m\u001b[38;5;28;43mself\u001b[39;49m\u001b[38;5;241;43m.\u001b[39;49m\u001b[43m_pensize\u001b[49m\u001b[43m)\u001b[49m\n\u001b[1;32m   3305\u001b[0m     \u001b[38;5;28mself\u001b[39m\u001b[38;5;241m.\u001b[39mcurrentLineItem \u001b[38;5;241m=\u001b[39m \u001b[38;5;28mself\u001b[39m\u001b[38;5;241m.\u001b[39mscreen\u001b[38;5;241m.\u001b[39m_createline()\n\u001b[1;32m   3306\u001b[0m     \u001b[38;5;28mself\u001b[39m\u001b[38;5;241m.\u001b[39mitems\u001b[38;5;241m.\u001b[39mappend(\u001b[38;5;28mself\u001b[39m\u001b[38;5;241m.\u001b[39mcurrentLineItem)\n",
      "File \u001b[0;32m/Library/Frameworks/Python.framework/Versions/3.11/lib/python3.11/turtle.py:545\u001b[0m, in \u001b[0;36mTurtleScreenBase._drawline\u001b[0;34m(self, lineitem, coordlist, fill, width, top)\u001b[0m\n\u001b[1;32m    543\u001b[0m         cl\u001b[38;5;241m.\u001b[39mappend(x \u001b[38;5;241m*\u001b[39m \u001b[38;5;28mself\u001b[39m\u001b[38;5;241m.\u001b[39mxscale)\n\u001b[1;32m    544\u001b[0m         cl\u001b[38;5;241m.\u001b[39mappend(\u001b[38;5;241m-\u001b[39my \u001b[38;5;241m*\u001b[39m \u001b[38;5;28mself\u001b[39m\u001b[38;5;241m.\u001b[39myscale)\n\u001b[0;32m--> 545\u001b[0m     \u001b[38;5;28;43mself\u001b[39;49m\u001b[38;5;241;43m.\u001b[39;49m\u001b[43mcv\u001b[49m\u001b[38;5;241;43m.\u001b[39;49m\u001b[43mcoords\u001b[49m\u001b[43m(\u001b[49m\u001b[43mlineitem\u001b[49m\u001b[43m,\u001b[49m\u001b[43m \u001b[49m\u001b[38;5;241;43m*\u001b[39;49m\u001b[43mcl\u001b[49m\u001b[43m)\u001b[49m\n\u001b[1;32m    546\u001b[0m \u001b[38;5;28;01mif\u001b[39;00m fill \u001b[38;5;129;01mis\u001b[39;00m \u001b[38;5;129;01mnot\u001b[39;00m \u001b[38;5;28;01mNone\u001b[39;00m:\n\u001b[1;32m    547\u001b[0m     \u001b[38;5;28mself\u001b[39m\u001b[38;5;241m.\u001b[39mcv\u001b[38;5;241m.\u001b[39mitemconfigure(lineitem, fill\u001b[38;5;241m=\u001b[39mfill)\n",
      "File \u001b[0;32m<string>:1\u001b[0m, in \u001b[0;36mcoords\u001b[0;34m(self, *args, **kw)\u001b[0m\n",
      "File \u001b[0;32m/Library/Frameworks/Python.framework/Versions/3.11/lib/python3.11/tkinter/__init__.py:2822\u001b[0m, in \u001b[0;36mCanvas.coords\u001b[0;34m(self, *args)\u001b[0m\n\u001b[1;32m   2818\u001b[0m \u001b[38;5;250m\u001b[39m\u001b[38;5;124;03m\"\"\"Return a list of coordinates for the item given in ARGS.\"\"\"\u001b[39;00m\n\u001b[1;32m   2819\u001b[0m \u001b[38;5;66;03m# XXX Should use _flatten on args\u001b[39;00m\n\u001b[1;32m   2820\u001b[0m \u001b[38;5;28;01mreturn\u001b[39;00m [\u001b[38;5;28mself\u001b[39m\u001b[38;5;241m.\u001b[39mtk\u001b[38;5;241m.\u001b[39mgetdouble(x) \u001b[38;5;28;01mfor\u001b[39;00m x \u001b[38;5;129;01min\u001b[39;00m\n\u001b[1;32m   2821\u001b[0m                    \u001b[38;5;28mself\u001b[39m\u001b[38;5;241m.\u001b[39mtk\u001b[38;5;241m.\u001b[39msplitlist(\n\u001b[0;32m-> 2822\u001b[0m            \u001b[38;5;28;43mself\u001b[39;49m\u001b[38;5;241;43m.\u001b[39;49m\u001b[43mtk\u001b[49m\u001b[38;5;241;43m.\u001b[39;49m\u001b[43mcall\u001b[49m\u001b[43m(\u001b[49m\u001b[43m(\u001b[49m\u001b[38;5;28;43mself\u001b[39;49m\u001b[38;5;241;43m.\u001b[39;49m\u001b[43m_w\u001b[49m\u001b[43m,\u001b[49m\u001b[43m \u001b[49m\u001b[38;5;124;43m'\u001b[39;49m\u001b[38;5;124;43mcoords\u001b[39;49m\u001b[38;5;124;43m'\u001b[39;49m\u001b[43m)\u001b[49m\u001b[43m \u001b[49m\u001b[38;5;241;43m+\u001b[39;49m\u001b[43m \u001b[49m\u001b[43margs\u001b[49m\u001b[43m)\u001b[49m)]\n",
      "\u001b[0;31mTclError\u001b[0m: invalid command name \".!canvas\""
     ]
    }
   ],
   "source": [
    "p = np.array([-1, 1, 0, 0, 0, 0, 0.347113, 0.347113, -0.694226, 0.532727, 0.532727, -1.065454])\n",
    "draw(p, 3000, 0.001)"
   ]
  },
  {
   "cell_type": "code",
   "execution_count": null,
   "metadata": {},
   "outputs": [],
   "source": [
    "win.exitonclick()"
   ]
  },
  {
   "cell_type": "code",
   "execution_count": 29,
   "metadata": {},
   "outputs": [
    {
     "data": {
      "image/png": "[encoded data removed]",
      "text/plain": [
       "<Figure size 1200x1200 with 1 Axes>"
      ]
     },
     "metadata": {},
     "output_type": "display_data"
    }
   ],
   "source": [
    "p = np.array([-1, 1, 0, 0, 0, 0, 0.347113, 0.347113, -0.694226, 0.532727, 0.532727, -1.065454])\n",
    "d = heun(p, 3000, 0.001)\n",
    "\n",
    "fig, ax = plt.subplots(figsize=(12, 12))\n",
    "\n",
    "ax.set_title(\"y vs x\")\n",
    "ax.plot(d['P1: X Position'][0], d['P1: Y Position'][0], c='blue', marker='x', label='Earth')\n",
    "ax.plot(d['P2: X Position'][0], d['P2: Y Position'][0], c='red', marker='x',label='Mars')\n",
    "ax.plot(d['P3: X Position'][0], d['P3: Y Position'][0], c='orange', marker='x', label='Venus')\n",
    "# ax.plot(d['P1: X Position'], d['P1: Y Position'], c='blue', alpha=0.3, label='Earth')\n",
    "# ax.plot(d['P2: X Position'], d['P2: Y Position'], c='red', alpha=0.3, label='Mars')\n",
    "ax.plot(d['P3: X Position'], d['P3: Y Position'], c='orange', alpha=0.3, label='Venus')\n",
    "ax.legend()\n",
    "plt.show()"
   ]
  }
 ],
 "metadata": {
  "kernelspec": {
   "display_name": "Python 3",
   "language": "python",
   "name": "python3"
  },
  "language_info": {
   "codemirror_mode": {
    "name": "ipython",
    "version": 3
   },
   "file_extension": ".py",
   "mimetype": "text/x-python",
   "name": "python",
   "nbconvert_exporter": "python",
   "pygments_lexer": "ipython3",
   "version": "3.11.1"
  }
 },
 "nbformat": 4,
 "nbformat_minor": 2
}
